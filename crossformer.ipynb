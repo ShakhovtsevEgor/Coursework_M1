{
 "cells": [
  {
   "cell_type": "code",
   "execution_count": 2,
   "id": "9bb261df",
   "metadata": {},
   "outputs": [
    {
     "name": "stdout",
     "output_type": "stream",
     "text": [
      "[WinError 2] The system cannot find the file specified: 'Crossformer'\n",
      "c:\\Users\\serge\\Data\\Egor Coursework\\Crossformer\n",
      "Args in experiment:\n",
      "Namespace(data='GAZP_combo_2', root_path='./datasets/', data_path='GAZP_combo_2.csv', data_split=[0.7, 0.15, 0.15], checkpoints='./checkpoints/', in_len=180, out_len=5, seg_len=6, win_size=2, factor=10, data_dim=6, d_model=256, d_ff=512, n_heads=4, e_layers=3, dropout=0.2, baseline=False, num_workers=0, batch_size=70, train_epochs=20, patience=3, learning_rate=0.0001, lradj='type1', itr=1, save_pred=False, use_gpu=True, gpu=0, use_multi_gpu=False, devices='0,1,2,3')\n",
      "Use GPU: cuda:0\n",
      ">>>>>>>start training : Crossformer_GAZP_combo_2_il180_ol5_sl6_win2_fa10_dm256_nh4_el3_itr0>>>>>>>>>>>>>>>>>>>>>>>>>>\n",
      "train 79641\n",
      "val 17103\n",
      "test 17101\n"
     ]
    },
    {
     "ename": "KeyboardInterrupt",
     "evalue": "",
     "output_type": "error",
     "traceback": [
      "\u001b[31m---------------------------------------------------------------------------\u001b[39m",
      "\u001b[31mKeyboardInterrupt\u001b[39m                         Traceback (most recent call last)",
      "\u001b[36mFile \u001b[39m\u001b[32m~\\Data\\Egor Coursework\\Crossformer\\main_crossformer.py:88\u001b[39m\n\u001b[32m     86\u001b[39m exp = Exp(args) \u001b[38;5;66;03m# set experiments\u001b[39;00m\n\u001b[32m     87\u001b[39m \u001b[38;5;28mprint\u001b[39m(\u001b[33m'\u001b[39m\u001b[33m>>>>>>>start training : \u001b[39m\u001b[38;5;132;01m{}\u001b[39;00m\u001b[33m>>>>>>>>>>>>>>>>>>>>>>>>>>\u001b[39m\u001b[33m'\u001b[39m.format(setting))\n\u001b[32m---> \u001b[39m\u001b[32m88\u001b[39m \u001b[43mexp\u001b[49m\u001b[43m.\u001b[49m\u001b[43mtrain\u001b[49m\u001b[43m(\u001b[49m\u001b[43msetting\u001b[49m\u001b[43m)\u001b[49m\n\u001b[32m     90\u001b[39m \u001b[38;5;28mprint\u001b[39m(\u001b[33m'\u001b[39m\u001b[33m>>>>>>>testing : \u001b[39m\u001b[38;5;132;01m{}\u001b[39;00m\u001b[33m<<<<<<<<<<<<<<<<<<<<<<<<<<<<<<<<<\u001b[39m\u001b[33m'\u001b[39m.format(setting))\n\u001b[32m     91\u001b[39m exp.test(setting, args.save_pred)\n",
      "\u001b[36mFile \u001b[39m\u001b[32m~\\Data\\Egor Coursework\\Crossformer\\cross_exp\\exp_crossformer.py:126\u001b[39m, in \u001b[36mExp_crossformer.train\u001b[39m\u001b[34m(self, setting)\u001b[39m\n\u001b[32m    123\u001b[39m iter_count += \u001b[32m1\u001b[39m\n\u001b[32m    125\u001b[39m model_optim.zero_grad()\n\u001b[32m--> \u001b[39m\u001b[32m126\u001b[39m pred, true = \u001b[38;5;28;43mself\u001b[39;49m\u001b[43m.\u001b[49m\u001b[43m_process_one_batch\u001b[49m\u001b[43m(\u001b[49m\n\u001b[32m    127\u001b[39m \u001b[43m    \u001b[49m\u001b[43mtrain_data\u001b[49m\u001b[43m,\u001b[49m\u001b[43m \u001b[49m\u001b[43mbatch_x\u001b[49m\u001b[43m,\u001b[49m\u001b[43m \u001b[49m\u001b[43mbatch_y\u001b[49m\u001b[43m)\u001b[49m\n\u001b[32m    128\u001b[39m loss = criterion(pred, true)\n\u001b[32m    129\u001b[39m train_loss.append(loss.item())\n",
      "\u001b[36mFile \u001b[39m\u001b[32m~\\Data\\Egor Coursework\\Crossformer\\cross_exp\\exp_crossformer.py:206\u001b[39m, in \u001b[36mExp_crossformer._process_one_batch\u001b[39m\u001b[34m(self, dataset_object, batch_x, batch_y, inverse)\u001b[39m\n\u001b[32m    205\u001b[39m \u001b[38;5;28;01mdef\u001b[39;00m\u001b[38;5;250m \u001b[39m\u001b[34m_process_one_batch\u001b[39m(\u001b[38;5;28mself\u001b[39m, dataset_object, batch_x, batch_y, inverse = \u001b[38;5;28;01mFalse\u001b[39;00m):\n\u001b[32m--> \u001b[39m\u001b[32m206\u001b[39m     batch_x = \u001b[43mbatch_x\u001b[49m\u001b[43m.\u001b[49m\u001b[43mfloat\u001b[49m\u001b[43m(\u001b[49m\u001b[43m)\u001b[49m\u001b[43m.\u001b[49m\u001b[43mto\u001b[49m\u001b[43m(\u001b[49m\u001b[38;5;28;43mself\u001b[39;49m\u001b[43m.\u001b[49m\u001b[43mdevice\u001b[49m\u001b[43m)\u001b[49m\n\u001b[32m    207\u001b[39m     batch_y = batch_y.float().to(\u001b[38;5;28mself\u001b[39m.device)\n\u001b[32m    209\u001b[39m     outputs = \u001b[38;5;28mself\u001b[39m.model(batch_x)\n",
      "\u001b[31mKeyboardInterrupt\u001b[39m: "
     ]
    }
   ],
   "source": [
    "%cd Crossformer\n",
    "\n",
    "# --train_epochs 50 --in_len 180 --out_len 5 --seg_len 4 --itr 1 --batch_size 2200 --d_model 100 --d_ff 190\n",
    "%run main_crossformer.py --data GAZP_combo_2 --in_len 180 --out_len 5 --batch_size 70"
   ]
  },
  {
   "cell_type": "code",
   "execution_count": null,
   "id": "990c7ba8",
   "metadata": {},
   "outputs": [],
   "source": []
  }
 ],
 "metadata": {
  "kernelspec": {
   "display_name": "legacy_torch",
   "language": "python",
   "name": "python3"
  },
  "language_info": {
   "codemirror_mode": {
    "name": "ipython",
    "version": 3
   },
   "file_extension": ".py",
   "mimetype": "text/x-python",
   "name": "python",
   "nbconvert_exporter": "python",
   "pygments_lexer": "ipython3",
   "version": "3.11.11"
  }
 },
 "nbformat": 4,
 "nbformat_minor": 5
}
